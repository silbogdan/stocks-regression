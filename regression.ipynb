{
 "cells": [
  {
   "cell_type": "code",
   "execution_count": 1,
   "metadata": {},
   "outputs": [],
   "source": [
    "import numpy as np\n",
    "import matplotlib.pyplot as plt"
   ]
  },
  {
   "cell_type": "markdown",
   "metadata": {},
   "source": [
    "# Solutionarea regresiei liniare folosind triangularizarea ortogonala.\n",
    "\n",
    "Acest notebook ne va ghida in aplicarea algoritmului TORT in scopul calcularii regresiei liniare. Pentru a verifica precizia algoritmului, vom calcula atat eroarea medie cat si eroarea patratica, pe un exemplu cu actiuni.  \n",
    "  \n",
    "Primul pas este preluarea informatiei. Astfel, in vectorul y stocam preturile de inchidere ale indicelui S&P500 pe data de 1, pe o perioada de 36 luni, incepand cu 1.01.2019. Vectorul x retine data pretului de inchidere."
   ]
  },
  {
   "cell_type": "code",
   "execution_count": 100,
   "metadata": {},
   "outputs": [],
   "source": [
    "y = np.array([2607.39, 2754.86, 2803.98, 2903.80, 2854.71, 2890.17, 2996.11, 2897.50, 2982.16, 2977.68, 3104.90, 3176.75, 3278.20, 3277.31, 2652.39, 2761.98, 2919.61, 3104.66, 3207.62, 3391.71, 3365.52, 3418.70, 3548.99, 3695.31, 3793.75, 3883.43, 3910.51, 4141.18, 4167.85, 4238.49, 4363.71, 4454.21, 4493.28, 4460.71, 4667.39, 4610.81]).T\n",
    "x = np.array(['01-01-2019', '01-02-2019', '01-03-2019', '01-04-2019', '01-05-2019', '01-06-2019', '01-07-2019', '01-08-2019', '01-09-2019', '01-10-2019', '01-11-2019', '01-12-2019', '01-01-2020', '01-02-2020', '01-03-2020', '01-04-2020', '01-05-2020', '01-06-2020', '01-07-2020', '01-08-2020', '01-09-2020', '01-10-2020', '01-11-2020', '01-12-2020', '01-01-2021', '01-02-2021', '01-03-2021', '01-04-2021', '01-05-2021', '01-06-2021', '01-07-2021', '01-08-2021', '01-09-2021', '01-10-2021', '01-11-2021', '01-12-2021']).T\n",
    "yCopy = np.copy(y)"
   ]
  },
  {
   "cell_type": "markdown",
   "metadata": {},
   "source": [
    "Urmatorul pas este crearea matricei coeficientilor. Regresia liniara respecta ecuatia $ y = b_0 + b_1 * x $. Astfel, o metoda de rezolvare poate fi considerarea ecuatiilor generate de multiplele puncte ale graficului ca fiind un sistem de ecuatii liniare supradimensionat (x.size ecuatii si 2 necunoscute - $ b_0, b_1 $)."
   ]
  },
  {
   "cell_type": "code",
   "execution_count": 101,
   "metadata": {},
   "outputs": [
    {
     "name": "stdout",
     "output_type": "stream",
     "text": [
      "[[ 1.  0.]\n",
      " [ 1.  1.]\n",
      " [ 1.  2.]\n",
      " [ 1.  3.]\n",
      " [ 1.  4.]\n",
      " [ 1.  5.]\n",
      " [ 1.  6.]\n",
      " [ 1.  7.]\n",
      " [ 1.  8.]\n",
      " [ 1.  9.]\n",
      " [ 1. 10.]\n",
      " [ 1. 11.]\n",
      " [ 1. 12.]\n",
      " [ 1. 13.]\n",
      " [ 1. 14.]\n",
      " [ 1. 15.]\n",
      " [ 1. 16.]\n",
      " [ 1. 17.]\n",
      " [ 1. 18.]\n",
      " [ 1. 19.]\n",
      " [ 1. 20.]\n",
      " [ 1. 21.]\n",
      " [ 1. 22.]\n",
      " [ 1. 23.]\n",
      " [ 1. 24.]\n",
      " [ 1. 25.]\n",
      " [ 1. 26.]\n",
      " [ 1. 27.]\n",
      " [ 1. 28.]\n",
      " [ 1. 29.]\n",
      " [ 1. 30.]\n",
      " [ 1. 31.]\n",
      " [ 1. 32.]\n",
      " [ 1. 33.]\n",
      " [ 1. 34.]\n",
      " [ 1. 35.]]\n"
     ]
    }
   ],
   "source": [
    "onesArr = np.ones((x.shape[0], 1))\n",
    "A = np.column_stack((onesArr, range(x.size)))\n",
    "print(A)"
   ]
  },
  {
   "cell_type": "markdown",
   "metadata": {},
   "source": [
    "Pentru rezolvarea sistemului $ A * coef = y $, ne vom folosi de algoritmul TORT pentru a reduce matricea la o forma superior triunghiulara, apoi vom aplica UTRIS."
   ]
  },
  {
   "cell_type": "code",
   "execution_count": 102,
   "metadata": {},
   "outputs": [
    {
     "name": "stdout",
     "output_type": "stream",
     "text": [
      "[[2473.41668168]\n",
      " [  56.68941184]]\n"
     ]
    }
   ],
   "source": [
    "# Preluam dimensiunile matricei de coeficienti\n",
    "m, n = A.shape\n",
    "\n",
    "def TORT (A):\n",
    "    U = np.zeros((m, n))\n",
    "    p = min(m-1, n)\n",
    "    beta = np.zeros((p, 1))\n",
    "    for k in range(p):\n",
    "        # Calcularea lui sigma\n",
    "        s = 0\n",
    "        for i in range(k, m):\n",
    "            s = s + A[i, k]**2\n",
    "        sigma = np.sign(A[k, k]) * np.sqrt(s)\n",
    "        \n",
    "        if sigma != 0:\n",
    "            # Calcularea vectorilor householder\n",
    "            U[k, k] = A[k, k] + sigma\n",
    "            for i in range(k+1, m):\n",
    "                U[i, k] = A[i, k]            \n",
    "            beta[k] = sigma * U[k, k]\n",
    "\n",
    "            # Aplicam reflectorul Householder pe A\n",
    "            for j in range(k,n):\n",
    "                tau = 0\n",
    "                for q in range(k, m):\n",
    "                    tau = tau + U[q, k] * A[q, j]\n",
    "                tau = tau / beta[k]\n",
    "                for i in range(k, m):\n",
    "                    A[i, j] = A[i, j] - tau * U[i, k]\n",
    "                    \n",
    "    return U, A, beta\n",
    "\n",
    "def Utris(U, b):\n",
    "    n = len(U)\n",
    "    x = np.zeros((n, 1))\n",
    "    for i in range(n-1, -1, -1):\n",
    "        s = b[i]\n",
    "        for j in range(i+1, n):\n",
    "            s = s - U[i][j]*x[j]\n",
    "        x[i] = s / U[i][i]\n",
    "    return x\n",
    "\n",
    "# Aplicam TORT\n",
    "U, R, beta = TORT(A)\n",
    "\n",
    "# Aplicam reflectorii Householder asupra lui y\n",
    "for k in range(n):\n",
    "    tau = 0\n",
    "    for i in range(k, m):\n",
    "        tau = tau + U[i,k] * y[i]\n",
    "    tau = tau / beta[k]\n",
    "    for i in range(k, m):\n",
    "        y[i] = y[i] - tau * U[i,k]\n",
    "        \n",
    "c = Utris(R[0:n,:], y[0:n])\n",
    "print(c)\n",
    "\n",
    "# Ne cream un vector pentru a plota dreapta calculata din regresie\n",
    "newY = np.array([])\n",
    "# Anticipam pe un anumit interval, aplicand formula\n",
    "for val in range(36):\n",
    "    newY = np.append(newY, val * c[1] + c[0])"
   ]
  },
  {
   "cell_type": "markdown",
   "metadata": {},
   "source": [
    "Mai departe, vom calcula eroarea prin 2 metode:\n",
    "- Eroarea medie, definita de relatia $ r_mean = \\sum_{1}^{n} \\frac{(y_{final} - y_{initial})^2}{n} $\n",
    "- Eroarea patratica, definita de relatia $ r^2 = 1 - \\frac{\\sum_{1}^{n} (y_{final} - y_{initial})^2}{\\sum_{1}^{n} (\\overline{y_{initial}} - y_{initial})^2} $ "
   ]
  },
  {
   "cell_type": "code",
   "execution_count": 103,
   "metadata": {},
   "outputs": [
    {
     "name": "stdout",
     "output_type": "stream",
     "text": [
      "Eroarea medie: 40.06039829640514\n",
      "Eroarea patratica: 0.8706316898460951\n"
     ]
    }
   ],
   "source": [
    "# Calcularea erorii medii\n",
    "def getError(initVec, finalVec):\n",
    "    return np.sqrt(sum((finalVec[0:initVec.size] - initVec) ** 2)) / (initVec.size - 2)\n",
    "\n",
    "# Calcularea erorii patratice\n",
    "def getRSquaredError(initVec, finalVec):\n",
    "    meanY = np.zeros(initVec.size) # Vector de comparatie: are media lui initVec pe fiecare pozitie\n",
    "    for i in range(initVec.size):\n",
    "        meanY[i] = np.mean(initVec)\n",
    "    \n",
    "    err = sum((finalVec[0:initVec.size] - initVec) ** 2) # Eroarea simpla\n",
    "    meanErr = sum((meanY - initVec) ** 2) # Eroarea medie\n",
    "\n",
    "    return 1 - (err / meanErr)\n",
    "\n",
    "print(\"Eroarea medie: \" + str(getError(yCopy, newY)))\n",
    "print(\"Eroarea patratica: \" + str(getRSquaredError(yCopy, newY)))"
   ]
  },
  {
   "cell_type": "markdown",
   "metadata": {},
   "source": [
    "In final, afisam graficul rezultat."
   ]
  },
  {
   "cell_type": "code",
   "execution_count": 104,
   "metadata": {},
   "outputs": [
    {
     "data": {
      "image/png": "[encoded data removed]",
      "text/plain": [
       "<Figure size 432x288 with 1 Axes>"
      ]
     },
     "metadata": {
      "needs_background": "light"
     },
     "output_type": "display_data"
    }
   ],
   "source": [
    "plt.scatter(range(x.size), yCopy)\n",
    "plt.plot(range(36), newY, color=\"red\")\n",
    "plt.xticks(rotation=60)\n",
    "plt.show()"
   ]
  }
 ],
 "metadata": {
  "interpreter": {
   "hash": "8e95b6bc34bdd453f32c7cf0626c539dd461549345414697b589887ce4a0af3b"
  },
  "kernelspec": {
   "display_name": "Python 3 (ipykernel)",
   "language": "python",
   "name": "python3"
  },
  "language_info": {
   "codemirror_mode": {
    "name": "ipython",
    "version": 3
   },
   "file_extension": ".py",
   "mimetype": "text/x-python",
   "name": "python",
   "nbconvert_exporter": "python",
   "pygments_lexer": "ipython3",
   "version": "3.9.7"
  }
 },
 "nbformat": 4,
 "nbformat_minor": 4
}
